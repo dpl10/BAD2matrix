{
 "cells": [
  {
   "cell_type": "code",
   "execution_count": 84,
   "metadata": {},
   "outputs": [],
   "source": [
    "from importlib import reload\n",
    "from functools import reduce\n",
    "import utils\n",
    "import warnings"
   ]
  },
  {
   "cell_type": "code",
   "execution_count": 189,
   "metadata": {},
   "outputs": [
    {
     "data": {
      "text/plain": [
       "<module 'utils' from '/Users/nelson/Documents/NYBG/BAD2matrix/utils.py'>"
      ]
     },
     "execution_count": 189,
     "metadata": {},
     "output_type": "execute_result"
    }
   ],
   "source": [
    "reload(utils)"
   ]
  },
  {
   "cell_type": "code",
   "execution_count": 87,
   "metadata": {},
   "outputs": [],
   "source": [
    "infiles = ['alg_test_0.fasta', 'alg_test_1.fasta', 'alg_test_2.fasta']\n",
    "\n",
    "dummy = ['''\n",
    ">sp0#sample0\n",
    "TATTCCTCTATTA---GTAATTGGGCTTCTACTT-TTCCAAGAGCAACTAAAAATATTCGGCGTATC---\n",
    ">sp1_0#sample0\n",
    "-ATTCCTCTATTA---GTAATTGGGCTTCTACTT-TTCCATGAGCAACTAAAAATATACGGCGTATCT--\n",
    ">sp2#sample0\n",
    "--TTCCTCTATTAA-AGGAATTGGG--TCTACATTTTCCACGAGCAACTACCCATATTCGGCGTATCTG-\n",
    ">sp3#sample0\n",
    "---TCCTCTATTAA-AGGAATTGGG--TCTACATTTTCCAAGAGCAACTACCCATATTC-GCGTATCTGG\n",
    "''',\n",
    "'''\n",
    ">sp0#sample0\n",
    "CTTCTTTGCATTTATTACGATCGATTCTCCATGAATG------TAGTTTTAGTAAAGAAAATTTGCAGAAATCTCTGATT\n",
    ">sp1_1#sample1\n",
    "CTTCGTTGCATTTATTACGATC-ATTCTCCATGAATG------TAGTTTTAGTAAAGAATATTTGCAGAAATCTCTGACT\n",
    ">sp2#sample0\n",
    "CTTCGCTGCAT--ATTACGATC-ATTCTCCATGAATG------TAGTTTTAGTTAAGAATATTTGCAGAAATCTCTGACT\n",
    ">sp4#sample0\n",
    "CTTCGCTGCAT--ATTACGATC-ATTCTCCATGAATGATAATCTAGTTTTAGTTAAGAATATTTGCAGAAATCTCTGATT\n",
    "''',\n",
    "'''\n",
    ">sp0#sample0\n",
    "TATTCCTCTATTA---GTAATTGGGCTTCTACTT-TTCCAAGAGGGCGGAAAAATATTCGGCGTATC---\n",
    ">sp5#sample0\n",
    "TATTCCTCTATTA---GTAATTGGGCTTCTACTT-TTCCAAGAGCGGGGAAAAATATTCGGCGTATC---\n",
    "'''\n",
    "]\n",
    "\n",
    "for inf, du in zip(infiles, dummy):\n",
    "\twith open(inf, 'w') as fh:\n",
    "\t\tfh.write(du)"
   ]
  },
  {
   "cell_type": "code",
   "execution_count": 205,
   "metadata": {},
   "outputs": [],
   "source": [
    "root_name = 'testito'"
   ]
  },
  {
   "cell_type": "code",
   "execution_count": 206,
   "metadata": {},
   "outputs": [],
   "source": [
    "raxml_main = root_name + '.phy'\n",
    "raxml_part = root_name + '.part'\n",
    "(name_map, act_files) = utils.get_name_map(infiles, True, 1)\n",
    "term_names = sorted(list(set(name_map.values()))) # Why sort should be done in reverse order?\n",
    "longest = max(term_names, key = len)\n",
    "spp_data = {name: utils.Term_data(name) for name in term_names}\n",
    "non_informative_partitions = []\n",
    "final_spp_count = 0\n"
   ]
  },
  {
   "cell_type": "code",
   "execution_count": 210,
   "metadata": {},
   "outputs": [
    {
     "name": "stdout",
     "output_type": "stream",
     "text": [
      "zsh:1: no matches found: temporary*\n"
     ]
    }
   ],
   "source": [
    "!rm temporary*\n",
    "!rm testito.phy"
   ]
  },
  {
   "cell_type": "code",
   "execution_count": 211,
   "metadata": {},
   "outputs": [
    {
     "name": "stderr",
     "output_type": "stream",
     "text": [
      "<ipython-input-211-266f651aae46>:14: UserWarning: Dataset in file alg_test_2.fasta has no informative characters, therefore it will not be further processed and its data completelly excluded from the output files.\n",
      "  warnings.warn(f\"Dataset in file {file} has no informative characters, therefore it will not be further processed and its data completelly excluded from the output files.\")\n"
     ]
    }
   ],
   "source": [
    "code_indels = True\n",
    "\n",
    "for file in act_files:\n",
    "\n",
    "\tpartition = utils.Partition(file, name_map)\n",
    "\n",
    "\tif code_indels:\n",
    "\t\tpartition.indel_coder()\n",
    "\n",
    "\tpartition.informative_stats()\n",
    "\ttot_inf = len(reduce(lambda x, y: x + y, partition.metadata[\"informative_chars\"]))\n",
    "\n",
    "\tif tot_inf == 0:\n",
    "\t\twarnings.warn(f\"Dataset in file {file} has no informative characters, therefore it will not be further processed and its data completelly excluded from the output files.\")\n",
    "\t\tnon_informative_partitions.append(file)\n",
    "\n",
    "\telse:\n",
    "\t\t# Parse all data to each species file\t\t\n",
    "\t\tfor name in spp_data:\n",
    "\t\t\tspp_data[name].feed(partition)\n",
    "\n",
    "# remove uninformative files and spp \n",
    "if not code_indels:\n",
    "\tact_files = [x for x in act_files if not x in non_informative_partitions]\n",
    "else:\n",
    "\tto_rm = []\n",
    "\tfor file in act_files:\n",
    "\t\tif file in non_informative_partitions and f\"{file}_indels\" in non_informative_partitions:\n",
    "\t\t\tto_rm.append(file)\n",
    "\tact_files = [x for x in act_files if not x in to_rm]\n",
    "\n",
    "spp_data = {sp: spp_data[sp] for sp in spp_data if \n",
    "\t\t\tlen([x for x in spp_data[sp].metadata[\"presence\"] if x]) > 0}\n",
    "\n",
    "# Write matrices to files\n",
    "\n",
    "# Write headers\n",
    "tot_size = sum([x for x in spp_data[next(iter(spp_data))].metadata[\"size\"]])\n",
    "raxml_header = f\" {len(spp_data)} {tot_size} \\n\"\n",
    "\n",
    "with open(raxml_main, \"w\") as oh:\n",
    "\toh.write(raxml_header)"
   ]
  },
  {
   "cell_type": "code",
   "execution_count": 213,
   "metadata": {},
   "outputs": [
    {
     "data": {
      "text/plain": [
       "['alg_test_0.fasta', 'alg_test_1.fasta', 'alg_test_2.fasta']"
      ]
     },
     "execution_count": 213,
     "metadata": {},
     "output_type": "execute_result"
    }
   ],
   "source": [
    "act_files"
   ]
  },
  {
   "cell_type": "code",
   "execution_count": 208,
   "metadata": {},
   "outputs": [
    {
     "data": {
      "text/plain": [
       "{'sp0_sample0': <utils.Term_data at 0x7f9b408f1d60>,\n",
       " 'sp1_sample0': <utils.Term_data at 0x7f9b408f1bb0>,\n",
       " 'sp1_sample1': <utils.Term_data at 0x7f9b107bdd00>,\n",
       " 'sp2_sample0': <utils.Term_data at 0x7f9b106f1cd0>,\n",
       " 'sp3_sample0': <utils.Term_data at 0x7f9b106f13d0>,\n",
       " 'sp4_sample0': <utils.Term_data at 0x7f9b10b99a00>,\n",
       " 'sp5_sample0': <utils.Term_data at 0x7f9b10b99760>}"
      ]
     },
     "execution_count": 208,
     "metadata": {},
     "output_type": "execute_result"
    }
   ],
   "source": [
    "spp_data"
   ]
  },
  {
   "cell_type": "code",
   "execution_count": 198,
   "metadata": {},
   "outputs": [
    {
     "name": "stdout",
     "output_type": "stream",
     "text": [
      "314\n",
      " 6 314 \n",
      "\n"
     ]
    }
   ],
   "source": [
    "print(tot_size)\n",
    "print(raxml_header)"
   ]
  },
  {
   "cell_type": "code",
   "execution_count": 203,
   "metadata": {},
   "outputs": [
    {
     "data": {
      "text/plain": [
       "{'size': [70, 4, 80, 3, 70, 4, 80, 3],\n",
       " 'type': ['nucleic',\n",
       "  'indel',\n",
       "  'nucleic',\n",
       "  'indel',\n",
       "  'nucleic',\n",
       "  'indel',\n",
       "  'nucleic',\n",
       "  'indel'],\n",
       " 'informative_chars': [[17, 32, 50, 51, 52],\n",
       "  [1, 2, 3],\n",
       "  [5, 53, 78],\n",
       "  [0],\n",
       "  [17, 32, 50, 51, 52],\n",
       "  [1, 2, 3],\n",
       "  [5, 53, 78],\n",
       "  [0]],\n",
       " 'presence': [False, False, True, True, False, False, True, True],\n",
       " 'origin': ['alg_test_0.fasta',\n",
       "  'alg_test_0.fasta_indels',\n",
       "  'alg_test_1.fasta',\n",
       "  'alg_test_1.fasta_indels',\n",
       "  'alg_test_0.fasta',\n",
       "  'alg_test_0.fasta_indels',\n",
       "  'alg_test_1.fasta',\n",
       "  'alg_test_1.fasta_indels']}"
      ]
     },
     "execution_count": 203,
     "metadata": {},
     "output_type": "execute_result"
    }
   ],
   "source": [
    "spp_data['sp4_sample0'].metadata"
   ]
  },
  {
   "cell_type": "code",
   "execution_count": 188,
   "metadata": {},
   "outputs": [],
   "source": [
    "!rm raxml_test.phy\n",
    "for sp in spp_data:\n",
    "\t\tspp_data[sp].parse_raxml(\"raxml_test.phy\")"
   ]
  }
 ],
 "metadata": {
  "interpreter": {
   "hash": "045f69587b8b7a6c5e08f91b8176f55d9081dd8dd775621cab5fc361df458caa"
  },
  "kernelspec": {
   "display_name": "Python 3.8.8 ('base')",
   "language": "python",
   "name": "python3"
  },
  "language_info": {
   "codemirror_mode": {
    "name": "ipython",
    "version": 3
   },
   "file_extension": ".py",
   "mimetype": "text/x-python",
   "name": "python",
   "nbconvert_exporter": "python",
   "pygments_lexer": "ipython3",
   "version": "3.8.8"
  },
  "orig_nbformat": 4
 },
 "nbformat": 4,
 "nbformat_minor": 2
}
